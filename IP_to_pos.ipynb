{
 "cells": [
  {
   "cell_type": "markdown",
   "id": "4650e749-2af5-4547-8323-ecce8ba7becf",
   "metadata": {},
   "source": [
    "## My location via IP  address"
   ]
  },
  {
   "cell_type": "code",
   "execution_count": 2,
   "id": "ddb818ae-780c-4040-9986-3f9c7e65f0d3",
   "metadata": {},
   "outputs": [
    {
     "name": "stdout",
     "output_type": "stream",
     "text": [
      "{'country_code': 'NL', 'country_name': 'Netherlands', 'city': 'Obdam', 'postal': '1713', 'latitude': 52.675, 'longitude': 4.9035, 'IPv4': '84.107.211.20', 'state': 'North Holland'}\n",
      "------------------\n",
      "(52.675, 4.9035)\n"
     ]
    }
   ],
   "source": [
    "import requests\n",
    "import json\n",
    "import socket\n",
    "s = socket.socket(socket.AF_INET, socket.SOCK_DGRAM)\n",
    "s.connect((\"8.8.8.8\", 80))\n",
    "\n",
    "full_ip_str = str(s.getsockname()[0])\n",
    "#print(full_ip_str)\n",
    "\n",
    "partial_ip = full_ip_str[:-4]\n",
    "#print(partial_ip)\n",
    "\n",
    "# IP address to test\n",
    "#ip_address = '192.168.68.123'\n",
    "#ip_address2 = '192.168.10.255' doesn't work\n",
    "\n",
    "# URL to send the request to\n",
    "request_url = 'https://geolocation-db.com/jsonp/' + partial_ip\n",
    "# Send request and decode the result\n",
    "response = requests.get(request_url)\n",
    "result = response.content.decode()\n",
    "# Clean the returned string so it just contains the dictionary data for the IP address\n",
    "result = result.split(\"(\")[1].strip(\")\")\n",
    "# Convert this data into a dictionary\n",
    "result  = json.loads(result)\n",
    "#print(result)\n",
    "\n",
    "my_ip_location = result['latitude'], result['longitude']\n",
    "print(result)\n",
    "print('------------------')\n",
    "print(my_ip_location)\n",
    "\n",
    "# from tuple to float via string\n",
    "latstr = str(result['latitude'])\n",
    "lat = float(latstr)                                                 \n",
    "lonstr = str(result['longitude'])\n",
    "lon = float(lonstr)\n"
   ]
  },
  {
   "cell_type": "code",
   "execution_count": 3,
   "id": "216f70d4-8b39-48d1-b665-597dd24da1d7",
   "metadata": {},
   "outputs": [
    {
     "name": "stdout",
     "output_type": "stream",
     "text": [
      "latitude:   52.675\n",
      "longitude: 004.904\n"
     ]
    }
   ],
   "source": [
    "lon_ip = '{:.3f}'.format(result[\"longitude\"])\n",
    "lat_ip = '{:.3f}'.format(result[\"latitude\"])\n",
    "print(\"latitude:   \"+str(lat_ip).zfill(6))\n",
    "print(\"longitude: \"+str(lon_ip).zfill(7))"
   ]
  }
 ],
 "metadata": {
  "kernelspec": {
   "display_name": "Python 3",
   "language": "python",
   "name": "python3"
  },
  "language_info": {
   "codemirror_mode": {
    "name": "ipython",
    "version": 3
   },
   "file_extension": ".py",
   "mimetype": "text/x-python",
   "name": "python",
   "nbconvert_exporter": "python",
   "pygments_lexer": "ipython3",
   "version": "3.9.7"
  }
 },
 "nbformat": 4,
 "nbformat_minor": 5
}
